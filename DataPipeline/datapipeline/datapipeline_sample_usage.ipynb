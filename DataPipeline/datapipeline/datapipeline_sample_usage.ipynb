{
 "cells": [
  {
   "cell_type": "code",
   "execution_count": 1,
   "id": "107ded48",
   "metadata": {},
   "outputs": [],
   "source": [
    "#import necessary packages\n",
    "import pandas as pd\n",
    "from field_data_processor import FieldDataProcessor\n",
    "from weather_data_processor import WeatherDataProcessor\n",
    "import logging \n",
    "logging.basicConfig(level=logging.INFO, format='%(asctime)s - %(name)s - %(levelname)s - %(message)s')"
   ]
  },
  {
   "cell_type": "code",
   "execution_count": 2,
   "id": "536f8cda",
   "metadata": {},
   "outputs": [],
   "source": [
    "#import the configuration parameters\n",
    "\n",
    "from data_ingestion import config_params\n",
    "config_params = config_params"
   ]
  },
  {
   "cell_type": "raw",
   "id": "fd32de31",
   "metadata": {},
   "source": [
    "#Here is the config_params should you need to make changes directly\n",
    "\n",
    "config_params = {\n",
    "    \"sql_query\": \"\"\"\n",
    "SELECT *\n",
    "FROM geographic_features\n",
    "LEFT JOIN weather_features USING (Field_ID)\n",
    "LEFT JOIN soil_and_crop_features USING (Field_ID)\n",
    "LEFT JOIN farm_management_features USING (Field_ID)\n",
    "            \"\"\", \n",
    "    \"db_path\": 'sqlite:///Maji_Ndogo_farm_survey_small.db', \n",
    "    \"columns_to_rename\": {'Annual_yield': 'Crop_type', 'Crop_type': 'Annual_yield'},\n",
    "    \"values_to_rename\": {'cassaval': 'cassava', 'wheatn': 'wheat', 'teaa': 'tea'}, \n",
    "    \"weather_mapping_csv\":\"https://raw.githubusercontent.com/Explore-AI/Public-Data/master/Maji_Ndogo/Weather_data_field_mapping.csv\",\n",
    "    \"weather_csv_path\": \"https://raw.githubusercontent.com/Explore-AI/Public-Data/master/Maji_Ndogo/Weather_station_data.csv\",\n",
    "    \"regex_patterns\" :{\n",
    "        'Rainfall': r'(\\d+(\\.\\d+)?)\\s?mm',\n",
    "        'Temperature': r'(\\d+(\\.\\d+)?)\\s?C',\n",
    "        'Pollution_level': r'=\\s*(-?\\d+(\\.\\d+)?)|Pollution at \\s*(-?\\d+(\\.\\d+)?)'\n",
    "        }\n",
    "}"
   ]
  },
  {
   "cell_type": "code",
   "execution_count": 3,
   "id": "d86735e7",
   "metadata": {},
   "outputs": [
    {
     "name": "stderr",
     "output_type": "stream",
     "text": [
      "2024-02-28 17:37:39,588 - data_ingestion - INFO - Database engine created successfully.\n",
      "2024-02-28 17:37:39,688 - data_ingestion - INFO - Query executed successfully.\n",
      "2024-02-28 17:37:39,688 - field_data_processor.FieldDataProcessor - INFO - Sucessfully loaded data.\n",
      "2024-02-28 17:37:39,688 - field_data_processor.FieldDataProcessor - INFO - Swapped columns: Annual_yield with Crop_type\n",
      "2024-02-28 17:37:40,678 - data_ingestion - INFO - CSV file read successfully from the web.\n",
      "2024-02-28 17:37:41,768 - data_ingestion - INFO - CSV file read successfully from the web.\n",
      "2024-02-28 17:37:41,768 - weather_data_processor.WeatherDataProcessor - INFO - Successfully loaded weather station data from the web.\n",
      "2024-02-28 17:37:41,788 - weather_data_processor.WeatherDataProcessor - INFO - Messages processed and measurements extracted.\n",
      "2024-02-28 17:37:41,788 - weather_data_processor.WeatherDataProcessor - INFO - Data processing completed.\n"
     ]
    }
   ],
   "source": [
    "#use the .process method from each module to transform ingested data\n",
    "\n",
    "field_processor = FieldDataProcessor(config_params)\n",
    "field_processor.process()\n",
    "field_df = field_processor.df\n",
    "\n",
    "weather_processor = WeatherDataProcessor(config_params)\n",
    "weather_processor.process()\n",
    "weather_df = weather_processor.weather_df"
   ]
  },
  {
   "cell_type": "markdown",
   "id": "44e219cf",
   "metadata": {},
   "source": [
    "#### Here's the plan\n",
    "    Create a null hypothesis.\n",
    "    Import the field dataset and clean it up.\n",
    "    Import the weather data.\n",
    "    Map the weather data to the field data.\n",
    "    Calculate the means of the weather station dataset and the means of the main dataset.\n",
    "    Calculate all the parameters we need to do a t-test.\n",
    "    Interpret our results.\n"
   ]
  },
  {
   "cell_type": "code",
   "execution_count": 4,
   "id": "17555a49",
   "metadata": {},
   "outputs": [],
   "source": [
    "# Rename 'Ave_temps' in field_df to 'Temperature' to match weather_df\n",
    "field_df.rename(columns={'Ave_temps': 'Temperature'}, inplace=True)"
   ]
  },
  {
   "cell_type": "markdown",
   "id": "c4e84aab",
   "metadata": {},
   "source": [
    "# Validating the dataset"
   ]
  },
  {
   "cell_type": "markdown",
   "id": "02178cc1",
   "metadata": {},
   "source": [
    "#### Hypothesis"
   ]
  },
  {
   "cell_type": "markdown",
   "id": "166a363e",
   "metadata": {},
   "source": [
    "So what are we testing with our null hypothesis $H_0$? Well, we want to know if our field data is representing the reality in Maji Ndogo by looking at an independent set of data. If our field data (means) are the same as the weather data (means), then it indicates no significant difference between the datasets. We're essentially saying that any difference we see between these means is because of randomness. However, if the means differ significantly, we'll know there is a reason for it, and that it is not just a random fluctuation in the data. \n",
    "\n",
    "<br>\n",
    "\n",
    "Given a significance level $\\alpha$ of 0.05 for a two-tailed test, we have the following conditions for our hypothesis test at a 95% confidence interval:\n",
    "\n",
    "- $H_0$: There is no significant difference between the means of the two datasets. This is expressed as $\\mu_{field} = \\mu_{weather}$.\n",
    "\n",
    "- $H_a$: There is a significant difference between the means of the two datasets. This is expressed as $\\mu_{field} \\neq \\mu_{weather}$.\n",
    "\n",
    "<br>\n",
    "\n",
    "If the p-value obtained from the test:\n",
    "- is less than or equal to the significance level, so $p \\leq \\alpha$, we reject the null hypothesis.\n",
    "- is larger than the significance level, so $p > \\alpha$, we cannot reject the null hypothesis, as we cannot find a statistically significant difference between the datasets at the 95% confidence level."
   ]
  },
  {
   "cell_type": "markdown",
   "id": "7309cc8a",
   "metadata": {},
   "source": [
    "First, we're going to import all of the packages and define a few variables. You might notice we're importing a new method, .ttest_ind(). This method takes in two data columns and calculates means, variance, and returns the the t- and p-statistics. So our t-test is reduced to one line. Since our alternative hypothesis does not make a claim of greater or less than, we will use the two-sided t-test, by adding the alternative = 'two-sided' keyword."
   ]
  },
  {
   "cell_type": "code",
   "execution_count": 5,
   "id": "0357cb50",
   "metadata": {},
   "outputs": [],
   "source": [
    "from scipy.stats import ttest_ind\n",
    "import numpy as np\n",
    "\n",
    "# Now, the measurements_to_compare can directly use 'Temperature', 'Rainfall', and 'Pollution_level'\n",
    "measurements_to_compare = ['Temperature', 'Rainfall', 'Pollution_level']"
   ]
  },
  {
   "cell_type": "markdown",
   "id": "3663900f",
   "metadata": {},
   "source": [
    "We want to compare the means of the temperature, rainfall, and pollution data, for fields assigned to a specific weather station. So for both datasets, we need to isolate the measurement type and weather station for each data, so we're comparing the correct means.\n",
    "\n",
    "Let's break down what we need to do:\n",
    "\n",
    "   We need to filter both field_df and weather_df based on the given station ID and measurement. We can use filter_field_data(df, station_id, measurement) and filter_weather_data(df, station_id, measurement).\n",
    "    \n",
    "   We need to perform a t-test to conduct the t-test on the filtered data. So we're going to use ttest_ind(data_col1, data_col2, equal_var=False) from scipy.stats. \n",
    "    \n",
    "  print_ttest_results(station_id, measurement, p_val, alpha) to interpret and print the results from the t-test.\n",
    "\n",
    "We'll first define these functions, focusing on Temperature for station ID = 0. Then, we'll integrate these functions into a loop that iterates over each station ID and measurement type."
   ]
  },
  {
   "cell_type": "markdown",
   "id": "0b68bd6d",
   "metadata": {},
   "source": [
    "I'll create a filter_field_data function that takes in the field_df DataFrame, the station_id, and measurement type, and retuns a single column (series) of data filtered by the station_id, and measurement."
   ]
  },
  {
   "cell_type": "code",
   "execution_count": 6,
   "id": "4c2e2752",
   "metadata": {},
   "outputs": [],
   "source": [
    "### START FUNCTION\n",
    "def filter_field_data(df, station_id, measurement):\n",
    "    # Check if measurement is in the valid columns\n",
    "    if measurement not in measurements_to_compare:\n",
    "        raise ValueError(f\"Invalid measurement. Supported columns: {valid_columns}\")\n",
    "\n",
    "    # Filter data based on station_id and measurement\n",
    "    if measurement in measurements_to_compare:\n",
    "        filtered_data = df[(df['Weather_station'] == station_id) & (df[measurement].notna())] #.notna() checks that it exists\n",
    "    else:\n",
    "        raise ValueError(f\"Column {measurement} does not exist in the DataFrame.\")\n",
    "\n",
    "    # Return the single column (Series) of filtered data\n",
    "    return filtered_data[measurement]\n",
    "    \n",
    "### END FUNCTION"
   ]
  },
  {
   "cell_type": "markdown",
   "id": "d9e7e4a1",
   "metadata": {},
   "source": [
    "Create a data filter function that takes in the weather_df DataFrame, the station_id, and measurement type, and returns a single column (series) of data filtered by the station_id, and measurement."
   ]
  },
  {
   "cell_type": "code",
   "execution_count": 7,
   "id": "2a6e730b",
   "metadata": {},
   "outputs": [],
   "source": [
    "### START FUNCTION\n",
    "\n",
    "def filter_weather_data(df, station_id, measurement):\n",
    "    # Check if measurement is in the valid measurements\n",
    "    if measurement not in measurements_to_compare:\n",
    "        raise ValueError(f\"Invalid measurement type. Supported types: {valid_measurements}\")\n",
    "\n",
    "    # Filter data based on station_id and measurement_type\n",
    "    filtered_data = df[(df['Weather_station_ID'] == station_id) & (df['Measurement'] == measurement)]['Value']\n",
    "\n",
    "    # Return the single column (Series) of filtered data\n",
    "    return filtered_data\n",
    "### END FUNCTION"
   ]
  },
  {
   "cell_type": "markdown",
   "id": "644ebbad",
   "metadata": {},
   "source": [
    "I'll create a function that calculates the t-statistic and p-value. The function should accept two single columns of data and return a tuple of the t-statistic and p-value."
   ]
  },
  {
   "cell_type": "code",
   "execution_count": 8,
   "id": "11ccdb56",
   "metadata": {},
   "outputs": [],
   "source": [
    "### START FUNCTION\n",
    "\n",
    "def run_ttest(Column_A, Column_B):\n",
    "    t_statistic, p_value = ttest_ind(Column_A, Column_B, equal_var=False)\n",
    "    return t_statistic, p_value    \n",
    "    \n",
    "### END FUNCTION"
   ]
  },
  {
   "cell_type": "markdown",
   "id": "f4298a21",
   "metadata": {},
   "source": [
    "I'll create a function to print out the t-test result."
   ]
  },
  {
   "cell_type": "code",
   "execution_count": 9,
   "id": "aab8b669",
   "metadata": {},
   "outputs": [],
   "source": [
    "### START FUNCTION\n",
    "\n",
    "def print_ttest_results(station_id, measurement, p_val, alpha):\n",
    "    if p_val < alpha:\n",
    "        print(f\"   Significant difference in {measurement} detected at Station  {station_id}, (P-Value: {p_val:.5f} < {alpha}). Null hypothesis rejected.\")\n",
    "    else:\n",
    "        print(f\"   No significant difference in {measurement} detected at Station  {station_id}, (P-Value: {p_val:.5f} > {alpha}). Null hypothesis not rejected.\")\n",
    "\n",
    "### END FUNCTION"
   ]
  },
  {
   "cell_type": "markdown",
   "id": "5e1ec3fb",
   "metadata": {},
   "source": [
    "I'll create a function that loops over measurements_to_compare and all station_id, perform a t-test and print the results. The function should accept field_df, weather_df, list_measurements_to_compare, alpha. the value of alpha should default to a value of 0.05."
   ]
  },
  {
   "cell_type": "code",
   "execution_count": 10,
   "id": "32045991",
   "metadata": {},
   "outputs": [],
   "source": [
    "### START FUNCTION\n",
    "def hypothesis_results(field_df, weather_df, list_measurements_to_compare, alpha=0.05):\n",
    "    for station_id in sorted(field_df['Weather_station'].unique()):\n",
    "        for measurement in list_measurements_to_compare:\n",
    "            \n",
    "            # Filter data for the specific station and measurement\n",
    "            field_values = filter_field_data(field_df, station_id, measurement)\n",
    "            weather_values = filter_weather_data(weather_df, station_id, measurement)\n",
    "\n",
    "            # Perform t-test\n",
    "            t_stat, p_val = run_ttest(field_values, weather_values)\n",
    "\n",
    "            # Print t-test results\n",
    "            print_ttest_results(station_id, measurement, p_val, alpha)\n",
    "            \n",
    "            \n",
    "### END FUNCTION"
   ]
  },
  {
   "cell_type": "code",
   "execution_count": 11,
   "id": "6f71ba62",
   "metadata": {},
   "outputs": [
    {
     "name": "stdout",
     "output_type": "stream",
     "text": [
      "   No significant difference in Temperature detected at Station  0, (P-Value: 0.90761 > 0.05). Null hypothesis not rejected.\n",
      "   No significant difference in Rainfall detected at Station  0, (P-Value: 0.21621 > 0.05). Null hypothesis not rejected.\n",
      "   No significant difference in Pollution_level detected at Station  0, (P-Value: 0.56418 > 0.05). Null hypothesis not rejected.\n",
      "   No significant difference in Temperature detected at Station  1, (P-Value: 0.47241 > 0.05). Null hypothesis not rejected.\n",
      "   No significant difference in Rainfall detected at Station  1, (P-Value: 0.54499 > 0.05). Null hypothesis not rejected.\n",
      "   No significant difference in Pollution_level detected at Station  1, (P-Value: 0.24410 > 0.05). Null hypothesis not rejected.\n",
      "   No significant difference in Temperature detected at Station  2, (P-Value: 0.88671 > 0.05). Null hypothesis not rejected.\n",
      "   No significant difference in Rainfall detected at Station  2, (P-Value: 0.36466 > 0.05). Null hypothesis not rejected.\n",
      "   No significant difference in Pollution_level detected at Station  2, (P-Value: 0.99388 > 0.05). Null hypothesis not rejected.\n",
      "   No significant difference in Temperature detected at Station  3, (P-Value: 0.66445 > 0.05). Null hypothesis not rejected.\n",
      "   No significant difference in Rainfall detected at Station  3, (P-Value: 0.39847 > 0.05). Null hypothesis not rejected.\n",
      "   No significant difference in Pollution_level detected at Station  3, (P-Value: 0.15466 > 0.05). Null hypothesis not rejected.\n",
      "   No significant difference in Temperature detected at Station  4, (P-Value: 0.88575 > 0.05). Null hypothesis not rejected.\n",
      "   No significant difference in Rainfall detected at Station  4, (P-Value: 0.33237 > 0.05). Null hypothesis not rejected.\n",
      "   No significant difference in Pollution_level detected at Station  4, (P-Value: 0.21508 > 0.05). Null hypothesis not rejected.\n"
     ]
    }
   ],
   "source": [
    "alpha = 0.05\n",
    "hypothesis_results(field_df, weather_df, measurements_to_compare, alpha)"
   ]
  }
 ],
 "metadata": {
  "kernelspec": {
   "display_name": "Python 3 (ipykernel)",
   "language": "python",
   "name": "python3"
  },
  "language_info": {
   "codemirror_mode": {
    "name": "ipython",
    "version": 3
   },
   "file_extension": ".py",
   "mimetype": "text/x-python",
   "name": "python",
   "nbconvert_exporter": "python",
   "pygments_lexer": "ipython3",
   "version": "3.11.5"
  }
 },
 "nbformat": 4,
 "nbformat_minor": 5
}
